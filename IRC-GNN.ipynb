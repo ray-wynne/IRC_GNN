{
 "cells": [
  {
   "cell_type": "markdown",
   "id": "7bd302db-53df-4809-ad9a-920159229cc1",
   "metadata": {},
   "source": [
    "# Notebook for Infrared-Collinear Safe Graph Neural Networks on Point Clouds\n",
    "\n",
    "## Project Proposal\n",
    "\n",
    "In recent years, machine learning has revolutionized the field of particle physics.\n",
    "Whether used directly in a physical apparatus or as a data-driven tool for uncovering\n",
    "patterns in nature, experimentalists and theorists alike have greatly benefited from\n",
    "machine learning. At accelerators such as the LHC, high energy collisions produce\n",
    "fundamental particles that fragment into a shower of composite particles. To apply\n",
    "machine learning techniques to these events, two questions must be answered: 1) how\n",
    "to represent the event, and 2) how to analyze this representation. Since collision\n",
    "events are inherently unordered sets of particles, they are often treated as point\n",
    "clouds.\n",
    "\n",
    "Of particular interest to theorists are a class of observables that are IRC safe,\n",
    "meaning they are insensitive to low energy particles (InfraRed) or parallel particles\n",
    "carrying the same total energy (Collinear). IRC safe observables are important\n",
    "because they are the only observables that can be calculated in perturbative quantum\n",
    "field theory and are more robust to detector effects. In the point cloud representation,\n",
    "IRC safety can be enforced in a neural network architecture known as Energy Flow\n",
    "Networks, offering an effcient learning scheme for IRC safe observables.\n",
    "\n",
    "Over the past 3 years, graph neural networks (GNNs) have become a powerful\n",
    "tool in a wide variety of applications, such as material science, drug discovery, social\n",
    "network analysis, and combinatorial optimization. Recently, the GNN framework has\n",
    "been applied to point clouds, offering a powerful method for classiffcation tasks\n",
    "in jet physics by exploiting local spatial structure in particle clouds. Although\n",
    "this method has shown considerable effectiveness in jet classiffcation tasks, since IRC\n",
    "safety is not enforced, it has suboptimal performance on regression tasks. The goal of this project is to implement IRC safety in the point cloud GNN\n",
    "architecture, allowing effcient and effective prediction of IRC safe observables from\n",
    "collider events. This will build on the Energy Flow Networks scheme by accounting\n",
    "for pairwise relationships between particles while retaining IRC safety."
   ]
  },
  {
   "cell_type": "markdown",
   "id": "ad19d848-f521-4262-bb97-5f9b4a9fdfe6",
   "metadata": {},
   "source": [
    "## Import Libraries"
   ]
  },
  {
   "cell_type": "code",
   "execution_count": 2,
   "id": "9bf7313d-74bb-4889-9fe8-e202cb862657",
   "metadata": {},
   "outputs": [],
   "source": [
    "import torch_scatter, torch_sparse, torch_cluster, torch_geometric\n",
    "import matplotlib.pyplot as plt\n",
    "import math as m\n",
    "import random"
   ]
  },
  {
   "cell_type": "markdown",
   "id": "1d219e05-e8f2-4d35-8274-f3a082b31f56",
   "metadata": {},
   "source": [
    "## Visualization Functions"
   ]
  },
  {
   "cell_type": "code",
   "execution_count": 192,
   "id": "427509a3-3122-4b26-8e3f-edb23fe070b5",
   "metadata": {},
   "outputs": [],
   "source": [
    "# Helper functions for visualization.\n",
    "%matplotlib inline\n",
    "import matplotlib.pyplot as plt\n",
    "from mpl_toolkits.mplot3d import Axes3D\n",
    "\n",
    "def visualize_mesh(pos, face):\n",
    "    fig = plt.figure()\n",
    "    ax = fig.gca(projection='3d')\n",
    "    ax.axes.xaxis.set_ticklabels([])\n",
    "    ax.axes.yaxis.set_ticklabels([])\n",
    "    ax.axes.zaxis.set_ticklabels([])\n",
    "    ax.plot_trisurf(pos[:, 0], pos[:, 1], pos[:, 2], triangles=data.face.t(), antialiased=False)\n",
    "    plt.show()\n",
    "    \n",
    "def visualize_points(pos, edge_index=None, index=None):\n",
    "    fig = plt.figure(figsize=(4, 4))\n",
    "    if edge_index is not None:\n",
    "        for (src, dst) in edge_index.t().tolist():\n",
    "             src = pos[src].tolist()\n",
    "             dst = pos[dst].tolist()\n",
    "             plt.plot([src[0], dst[0]], [src[1], dst[1]], linewidth=1, color='black')\n",
    "    if index is None:\n",
    "        plt.scatter(pos[:, 0], pos[:, 1], s=50, zorder=1000)\n",
    "    else:\n",
    "       mask = torch.zeros(pos.size(0), dtype=torch.bool)\n",
    "       mask[index] = True\n",
    "       plt.scatter(pos[~mask, 0], pos[~mask, 1], s=50, color='lightgray', zorder=1000)\n",
    "       plt.scatter(pos[mask, 0], pos[mask, 1], s=50, zorder=1000)\n",
    "    plt.axis('off')\n",
    "    plt.show()"
   ]
  },
  {
   "cell_type": "markdown",
   "id": "fd9cd3f1-b9e4-47df-9e5c-4a6a33fe1248",
   "metadata": {
    "jupyter": {
     "source_hidden": true
    },
    "tags": []
   },
   "source": [
    "## Import Example Dataset"
   ]
  },
  {
   "cell_type": "code",
   "execution_count": 207,
   "id": "9a8e4f82-fbe2-4212-8c44-594c222f6f88",
   "metadata": {
    "collapsed": true,
    "jupyter": {
     "outputs_hidden": true,
     "source_hidden": true
    },
    "tags": []
   },
   "outputs": [
    {
     "name": "stdout",
     "output_type": "stream",
     "text": [
      "GeometricShapes(40)\n",
      "Data(face=[3, 30], pos=[32, 3], y=[1])\n"
     ]
    },
    {
     "data": {
      "image/png": "[encoded data removed]",
      "text/plain": [
       "<Figure size 432x288 with 1 Axes>"
      ]
     },
     "metadata": {
      "needs_background": "light"
     },
     "output_type": "display_data"
    }
   ],
   "source": [
    "from torch_geometric.datasets import GeometricShapes\n",
    "\n",
    "dataset = GeometricShapes(root='data/GeometricShapes')\n",
    "print(dataset)\n",
    "\n",
    "data = dataset[0]\n",
    "print(data)\n",
    "visualize_mesh(data.pos, data.face)"
   ]
  },
  {
   "cell_type": "markdown",
   "id": "0d9e3563-403a-4a24-acff-75120dcaaf56",
   "metadata": {
    "jupyter": {
     "source_hidden": true
    },
    "tags": []
   },
   "source": [
    "## Create Point Cloud"
   ]
  },
  {
   "cell_type": "code",
   "execution_count": 208,
   "id": "eac81496-01ef-4a4e-940c-dcef842cf304",
   "metadata": {
    "collapsed": true,
    "jupyter": {
     "outputs_hidden": true,
     "source_hidden": true
    },
    "tags": []
   },
   "outputs": [
    {
     "name": "stdout",
     "output_type": "stream",
     "text": [
      "Data(pos=[50, 3], y=[1])\n"
     ]
    },
    {
     "data": {
      "image/png": "[encoded data removed]",
      "text/plain": [
       "<Figure size 288x288 with 1 Axes>"
      ]
     },
     "metadata": {
      "needs_background": "light"
     },
     "output_type": "display_data"
    }
   ],
   "source": [
    "import torch\n",
    "from torch_geometric.transforms import SamplePoints\n",
    "\n",
    "torch.manual_seed(42)\n",
    "\n",
    "dataset.transform = SamplePoints(num=50)\n",
    "\n",
    "data = dataset[0]\n",
    "print(data)\n",
    "visualize_points(data.pos, data.edge_index)"
   ]
  },
  {
   "cell_type": "markdown",
   "id": "9c9e6c5c-304e-4863-8f11-048eef95075a",
   "metadata": {
    "jupyter": {
     "source_hidden": true
    },
    "tags": []
   },
   "source": [
    "## Create K-NN Graph"
   ]
  },
  {
   "cell_type": "code",
   "execution_count": 387,
   "id": "9ec1f3a3-1e13-4e81-8f3a-76fa00cf1b18",
   "metadata": {
    "collapsed": {
     "outputs_hidden": true,
     "source_hidden": true
    },
    "jupyter": {
     "outputs_hidden": {
      "outputs_hidden": true,
      "source_hidden": true
     },
     "source_hidden": true
    },
    "tags": []
   },
   "outputs": [
    {
     "name": "stdout",
     "output_type": "stream",
     "text": [
      "torch.Size([2, 150])\n"
     ]
    },
    {
     "data": {
      "image/png": "[encoded data removed]",
      "text/plain": [
       "<Figure size 288x288 with 1 Axes>"
      ]
     },
     "metadata": {
      "needs_background": "light"
     },
     "output_type": "display_data"
    }
   ],
   "source": [
    "from torch_cluster import knn_graph\n",
    "\n",
    "data = dataset[0]\n",
    "data.edge_index = knn_graph(data.pos, k=3)\n",
    "print(data.edge_index.shape)\n",
    "visualize_points(data.pos, edge_index=data.edge_index)"
   ]
  },
  {
   "cell_type": "code",
   "execution_count": 333,
   "id": "49ea870c-cb34-4bbb-aeed-0f14e9b47fe4",
   "metadata": {
    "jupyter": {
     "source_hidden": true
    },
    "tags": []
   },
   "outputs": [],
   "source": [
    "nn_array = data.edge_index.numpy()\n",
    "\n",
    "nn = {}\n",
    "\n",
    "for i in range(len(neighbors_array[0])):\n",
    "    if nn_array[1, i] not in nn.keys():\n",
    "        nn[nn_array[1, i]] = [nn_array[0, i]]\n",
    "    else:\n",
    "        nn[nn_array[1, i]].append(nn_array[0, i])"
   ]
  },
  {
   "cell_type": "markdown",
   "id": "6e059d75-2bf1-4f8d-80f7-72b9d03fee90",
   "metadata": {},
   "source": [
    "## Infrared-Collinear Safe Edge Convolutions\n",
    "\n",
    "The main task is enforcing IRC-safety in the edge convolution operation from [Dynamic Graph CNN for Learning on Point Clouds](https://arxiv.org/pdf/1801.07829.pdf). By weighting the pairwise nonlinear function with the neighboring particle's energy, the operation is IRC-safe:\n",
    "\n",
    "$$x_i' = \\sum\\limits_{j:(i, j) \\in E} z_j \\cdot h_\\theta(x_i, x_j),$$\n",
    "\n",
    "where $z_j$ is the energy of particle $j$ and $h_\\theta$ is a nonlinear function with learnable parameters $\\theta$.\n",
    "\n",
    "However, we need a way to build a IRC-safe graph."
   ]
  },
  {
   "cell_type": "code",
   "execution_count": 397,
   "id": "1526eac0-bfc1-40eb-9e53-8d06fbc5cee8",
   "metadata": {
    "tags": []
   },
   "outputs": [],
   "source": [
    "def collinear(p, z):\n",
    "    \"\"\"\n",
    "    Input:\n",
    "    p: angular vectors array\n",
    "    z: energy array\n",
    "    neighbors: nearest neighbors dictionary for each particle\n",
    "    \n",
    "    Output:\n",
    "    p_split and z_split, where a random particle is chosen for collinear splitting (same angular vector, additive energy splitting)\n",
    "    \n",
    "    \"\"\"\n",
    "    i = random.randint(0, len(p) - 1)\n",
    "    lam = random.random()\n",
    "    \n",
    "    p_split = np.vstack((p, p[i]))\n",
    "    z_split = z + [(1 - lam) * z[i]]\n",
    "    z_split[i] = lam * z_split[i]\n",
    "    \n",
    "    print(\"Split on particle\", i)\n",
    "    \n",
    "    return p_split, z_split"
   ]
  },
  {
   "cell_type": "code",
   "execution_count": 450,
   "id": "ef0d1ee1-aab1-4bf6-bc60-d44b079a0f8e",
   "metadata": {},
   "outputs": [],
   "source": [
    "def infrared(p, z):\n",
    "    \"\"\"\n",
    "    Input:\n",
    "    p: angular vectors array\n",
    "    z: energy array\n",
    "    neighbors: nearest neighbors dictionary for each particle\n",
    "    \n",
    "    Output:\n",
    "    p_split and z_split, where a random particle is chosen for collinear splitting (same angular vector, additive energy splitting)\n",
    "    \n",
    "    \"\"\"\n",
    "    \n",
    "    p_new = np.random.rand(*p[0].shape)\n",
    "    \n",
    "    p_IR = np.vstack((p, p_new))\n",
    "    z_IR = z + [0]\n",
    "    \n",
    "    return p_IR, z_IR"
   ]
  },
  {
   "cell_type": "code",
   "execution_count": 438,
   "id": "b4874023-3140-4f4c-98cd-2cb05403c409",
   "metadata": {
    "collapsed": true,
    "jupyter": {
     "outputs_hidden": true,
     "source_hidden": true
    },
    "tags": []
   },
   "outputs": [
    {
     "name": "stdout",
     "output_type": "stream",
     "text": [
      "Split on particle 2\n"
     ]
    }
   ],
   "source": [
    "# zs = [random.random() for i in range(50)]\n",
    "\n",
    "# p_split, z_split = collinear(data.pos.numpy(), zs)"
   ]
  },
  {
   "cell_type": "code",
   "execution_count": 452,
   "id": "1c66f7e0-cd40-42e8-b6a9-28f3ac6db6b0",
   "metadata": {
    "jupyter": {
     "source_hidden": true
    },
    "tags": []
   },
   "outputs": [],
   "source": [
    "# p_IR, z_IR = infrared(data.pos.numpy(), zs)"
   ]
  },
  {
   "cell_type": "code",
   "execution_count": 360,
   "id": "f64e2415-a673-4f87-ab6b-97f9a2759f1e",
   "metadata": {
    "jupyter": {
     "source_hidden": true
    },
    "tags": []
   },
   "outputs": [],
   "source": [
    "# C1_new = []\n",
    "# for i in range(len(C1_split)):\n",
    "#     C1_new += [sum([z1_split[j] * np.exp(C1_split[i] + C1_split[j]) for j in range(len(C1_split))])]\n",
    "    \n",
    "\n",
    "# for i in range(len(C1_new)):\n",
    "#     print(sum([z1_split[j] * np.exp(C1_new[i] + C1_new[j]) for j in range(len(C1_new))]))"
   ]
  },
  {
   "cell_type": "code",
   "execution_count": 361,
   "id": "6e2b0120-0f59-4d63-bdda-e1fe9a404c4c",
   "metadata": {
    "jupyter": {
     "source_hidden": true
    },
    "tags": []
   },
   "outputs": [],
   "source": [
    "# def energy_conv_cluster(C, z, h):\n",
    "#     \"\"\"\n",
    "#     Inputs:\n",
    "#         C - cluster of particles from KNN graph\n",
    "#         z - energy of particles in the cluster\n",
    "#         h - nonlinear function\n",
    "    \n",
    "#     Outputs:\n",
    "#         convd - array representing convolved edges\n",
    "#     \"\"\"\n",
    "    \n",
    "#     convd = []\n",
    "    \n",
    "#     for i in range(len(C)):\n",
    "#         convd += [(sum([z[j] * h(C[i], C[j]) for j in range(len(C))]))]\n",
    "    \n",
    "#     return convd"
   ]
  },
  {
   "cell_type": "code",
   "execution_count": 400,
   "id": "37ed6f4e-902a-4684-a275-e2102f889b0a",
   "metadata": {},
   "outputs": [],
   "source": [
    "def energy_conv(p, z, neighbors, h):\n",
    "    \"\"\"\n",
    "    Inputs:\n",
    "        p - set of particles spatial information\n",
    "        z - energy of particles in the cluster\n",
    "        neighbors - set of neighbors for each particle\n",
    "        h - nonlinear function\n",
    "    \n",
    "    Outputs:\n",
    "        convd - array representing convolved edges\n",
    "    \"\"\"\n",
    "    \n",
    "    convd = []\n",
    "    \n",
    "    for i in range(len(p)):\n",
    "        p_convd = 0\n",
    "        nn_s = neighbors[i]\n",
    "        for j in nn_s:\n",
    "            p_convd += z[j] * h(p[i], p[j])\n",
    "        \n",
    "        convd += [p_convd]\n",
    "    \n",
    "    return convd"
   ]
  },
  {
   "cell_type": "code",
   "execution_count": 365,
   "id": "54966546-4c21-4625-9a11-ec51175a93b2",
   "metadata": {
    "jupyter": {
     "source_hidden": true
    },
    "tags": []
   },
   "outputs": [],
   "source": [
    "# def h(x1, x2):\n",
    "#     return np.exp(x1 * x2)"
   ]
  },
  {
   "cell_type": "code",
   "execution_count": 431,
   "id": "91276754-a8d7-4f4e-8a5d-397ef2c5d488",
   "metadata": {
    "collapsed": true,
    "jupyter": {
     "outputs_hidden": true,
     "source_hidden": true
    },
    "tags": []
   },
   "outputs": [
    {
     "data": {
      "text/plain": [
       "array([1.0841497, 0.5290673, 0.5009121], dtype=float32)"
      ]
     },
     "execution_count": 431,
     "metadata": {},
     "output_type": "execute_result"
    }
   ],
   "source": [
    "# energy_conv(p_split, z_split, nn_split, h)[37]"
   ]
  },
  {
   "cell_type": "code",
   "execution_count": 432,
   "id": "e404cc66-9f26-4862-9a80-bea9628dab82",
   "metadata": {
    "collapsed": true,
    "jupyter": {
     "outputs_hidden": true,
     "source_hidden": true
    },
    "tags": []
   },
   "outputs": [
    {
     "data": {
      "text/plain": [
       "array([0.24359158, 0.32495332, 0.3143675 ], dtype=float32)"
      ]
     },
     "execution_count": 432,
     "metadata": {},
     "output_type": "execute_result"
    }
   ],
   "source": [
    "# energy_conv(data.pos.numpy(), zs, nn, h)[37]"
   ]
  },
  {
   "cell_type": "code",
   "execution_count": 396,
   "id": "f8478243-0aae-430e-b20e-8a97a50fd0ac",
   "metadata": {
    "collapsed": true,
    "jupyter": {
     "outputs_hidden": true,
     "source_hidden": true
    },
    "tags": []
   },
   "outputs": [
    {
     "data": {
      "image/png": "[encoded data removed]",
      "text/plain": [
       "<Figure size 288x288 with 1 Axes>"
      ]
     },
     "metadata": {
      "needs_background": "light"
     },
     "output_type": "display_data"
    }
   ],
   "source": [
    "# visualize_points(X, X_edge)"
   ]
  },
  {
   "cell_type": "code",
   "execution_count": 425,
   "id": "d814f235-7387-46e3-95dd-4daeb9af0b72",
   "metadata": {
    "collapsed": true,
    "jupyter": {
     "outputs_hidden": true,
     "source_hidden": true
    },
    "tags": []
   },
   "outputs": [
    {
     "data": {
      "text/plain": [
       "tensor([[31, 28, 30, 31,  0, 30,  9, 29, 10, 32, 19, 48, 46, 36, 15, 15, 42, 36,\n",
       "         43, 26, 20, 40, 17, 12, 23, 33, 45,  2, 46, 10, 29, 47, 41, 42, 34, 49,\n",
       "         13,  7, 14, 30, 12, 26, 35,  7, 12,  5, 42,  4, 21, 18, 38, 40, 45,  7,\n",
       "         16, 21, 46, 48, 32,  3, 43,  6, 28, 16, 38, 18, 38, 21, 44,  8, 33, 45,\n",
       "         39, 27, 37, 48, 34,  3, 40, 13,  6, 39, 24, 37, 30, 31,  0, 10, 41, 47,\n",
       "         28, 13, 31,  0, 28, 30,  3, 19, 48, 23, 22, 44, 49, 39, 11, 49, 14, 48,\n",
       "         44, 38,  4, 50, 41, 47, 22, 21, 16, 27, 24, 34, 17, 26,  7, 47, 10, 29,\n",
       "         15, 11,  5, 20,  6, 26, 36, 38, 22, 17, 40, 44,  4,  9, 18, 41, 10, 29,\n",
       "         19,  3, 35, 35, 34, 11, 37, 41, 47],\n",
       "        [ 0,  0,  0,  1,  1,  1,  2,  2,  2,  3,  3,  3,  4,  4,  4,  5,  5,  5,\n",
       "          6,  6,  6,  7,  7,  7,  8,  8,  8,  9,  9,  9, 10, 10, 10, 11, 11, 11,\n",
       "         12, 12, 12, 13, 13, 13, 14, 14, 14, 15, 15, 15, 16, 16, 16, 17, 17, 17,\n",
       "         18, 18, 18, 19, 19, 19, 20, 20, 20, 21, 21, 21, 22, 22, 22, 23, 23, 23,\n",
       "         24, 24, 24, 25, 25, 25, 26, 26, 26, 27, 27, 27, 28, 28, 28, 29, 29, 29,\n",
       "         30, 30, 30, 31, 31, 31, 32, 32, 32, 33, 33, 33, 34, 34, 34, 35, 35, 35,\n",
       "         36, 36, 36, 37, 37, 37, 38, 38, 38, 39, 39, 39, 40, 40, 40, 41, 41, 41,\n",
       "         42, 42, 42, 43, 43, 43, 44, 44, 44, 45, 45, 45, 46, 46, 46, 47, 47, 47,\n",
       "         48, 48, 48, 49, 49, 49, 50, 50, 50]])"
      ]
     },
     "execution_count": 425,
     "metadata": {},
     "output_type": "execute_result"
    }
   ],
   "source": [
    "X_edge = knn_graph(torch.from_numpy(p_split), k=3)\n",
    "X_edge"
   ]
  },
  {
   "cell_type": "code",
   "execution_count": 427,
   "id": "570f28e9-352a-4776-9f02-ba92c1cf8537",
   "metadata": {
    "tags": []
   },
   "outputs": [],
   "source": [
    "nn_array = X_edge.numpy()\n",
    "\n",
    "nn_split = {}\n",
    "\n",
    "for i in range(len(nn_array[0])):\n",
    "    if nn_array[1, i] not in nn_split.keys():\n",
    "        nn_split[nn_array[1, i]] = [nn_array[0, i]]\n",
    "    else:\n",
    "        nn_split[nn_array[1, i]].append(nn_array[0, i])"
   ]
  },
  {
   "cell_type": "markdown",
   "id": "5171c809-892c-4d85-8de1-42aab7aa7127",
   "metadata": {},
   "source": [
    "import energyflow as ef\n",
    "import numpy as np\n",
    "import torch\n",
    "\n",
    "### GNN Model with Fully Connected Graph"
   ]
  },
  {
   "cell_type": "code",
   "execution_count": 45,
   "id": "3232556e-4753-48b6-b216-01e6eac5393b",
   "metadata": {},
   "outputs": [],
   "source": [
    "import energyflow as ef\n",
    "import numpy as np\n",
    "import torch\n",
    "\n",
    "import torch\n",
    "import torch.nn.functional as F\n",
    "from scipy.stats import pearsonr\n",
    "from torch.nn import MSELoss\n",
    "from sklearn.model_selection import train_test_split\n",
    "\n",
    "from torch_cluster import knn_graph\n",
    "from torch_geometric.data import Data, DataLoader\n",
    "\n",
    "from torch.nn import Sequential as Seq, Linear, ReLU\n",
    "from torch_geometric.nn import MessagePassing"
   ]
  },
  {
   "cell_type": "code",
   "execution_count": 60,
   "id": "38e03dab-17d7-4d03-bf0c-dec7cf37ab19",
   "metadata": {},
   "outputs": [
    {
     "name": "stdout",
     "output_type": "stream",
     "text": [
      "Loaded quark and gluon jets\n"
     ]
    }
   ],
   "source": [
    "train_size, val_size, test_size = 1000, 100, 100\n",
    "X, y = ef.qg_jets.load(train_size + val_size + test_size, ncol=3, pad=False)\n",
    "\n",
    "print('Loaded quark and gluon jets')"
   ]
  },
  {
   "cell_type": "code",
   "execution_count": 61,
   "id": "02ea3cef-605e-4917-bf65-6098ad1f871c",
   "metadata": {},
   "outputs": [
    {
     "name": "stdout",
     "output_type": "stream",
     "text": [
      "Finished preprocessing\n"
     ]
    }
   ],
   "source": [
    "# preprocess by centering jets and normalizing pts\n",
    "event_mask = []\n",
    "for x in X:\n",
    "    mask = x[:,0] > 0\n",
    "    event_mask.append(np.count_nonzero(mask) > 1)\n",
    "    yphi_avg = np.average(x[mask,1:3], weights=x[mask,0], axis=0)\n",
    "    x[mask,1:3] -= yphi_avg\n",
    "    x[mask,0] /= x[:,0].sum()\n",
    "X = X[np.asarray(event_mask)]\n",
    "\n",
    "print('Finished preprocessing')"
   ]
  },
  {
   "cell_type": "code",
   "execution_count": 62,
   "id": "f55773a0-54b4-4033-b2e0-ac5113e26afe",
   "metadata": {},
   "outputs": [
    {
     "name": "stdout",
     "output_type": "stream",
     "text": [
      "Finished computing observables\n"
     ]
    }
   ],
   "source": [
    "# compute the jet \"mass\" as an angularity with exponent 2\n",
    "# it's easier for the network to predict the log of the observable, shifted and scaled\n",
    "obs = np.log10(np.asarray([np.sum(x[:,0]*(x[:,1:3]**2).sum(1))/x[:,0].sum() for x in X]))\n",
    "obs_mean, obs_std = np.mean(obs), np.std(obs)\n",
    "obs -= obs_mean\n",
    "obs /= obs_std\n",
    "\n",
    "print('Finished computing observables')"
   ]
  },
  {
   "cell_type": "markdown",
   "id": "fa295b08-0931-4848-bb15-34e21f2e3fb0",
   "metadata": {},
   "source": [
    "## Create Dataset with Padded Array"
   ]
  },
  {
   "cell_type": "code",
   "execution_count": 63,
   "id": "f779b42b-23c0-4978-99f0-f832be8dc2c3",
   "metadata": {
    "jupyter": {
     "source_hidden": true
    },
    "tags": []
   },
   "outputs": [],
   "source": [
    "# from torch_cluster import knn_graph\n",
    "# from torch_geometric.data import Data, DataLoader\n",
    "\n",
    "# def CreateDataset(p, z, y):\n",
    "#     Dataset = []\n",
    "\n",
    "#     for i in range(len(p)):\n",
    "#         p = torch.Tensor(p_train[i])\n",
    "#         z = torch.Tensor([z_train[i]]).T\n",
    "#         y = torch.Tensor([y_train[i]]).T\n",
    "\n",
    "#         # create fully-connected graph for each particle\n",
    "#         edge_index = knn_graph(p, k=len(p))\n",
    "\n",
    "#         # directed energy edge weights - define for IRC safe convolution\n",
    "#         Z_weight = torch.Tensor([[z[i][0] for i in edge_index[0]]]).T\n",
    "\n",
    "#         # be careful - Dataloader turns edge_attribute into a list of [[Z_weight], [Z]]\n",
    "#         data = Data(p, edge_index, edge_attribute=[Z_weight, z], y=y)\n",
    "        \n",
    "\n",
    "#         Dataset.append(data)\n",
    "    \n",
    "#     return DataLoader(Dataset, batch_size=1)"
   ]
  },
  {
   "cell_type": "markdown",
   "id": "ff302709-12e5-4964-a742-8e3f1e672855",
   "metadata": {},
   "source": [
    "## Create Dataset with non-Padded Array"
   ]
  },
  {
   "cell_type": "code",
   "execution_count": 64,
   "id": "3b722dab-237c-4928-a987-2b127a7b7fce",
   "metadata": {
    "tags": []
   },
   "outputs": [],
   "source": [
    "def CreateDataset(X, y):\n",
    "    Dataset = []\n",
    "\n",
    "    for i in range(len(X)):\n",
    "        p = torch.Tensor(X[i][:, 1:])\n",
    "        z = torch.Tensor([X[i][:, 0]]).T\n",
    "        m = torch.Tensor([y[i]]).T\n",
    "\n",
    "        # create fully-connected graph for each particle\n",
    "        edge_index = knn_graph(p, k=len(p))\n",
    "\n",
    "        # directed energy edge weights - define for IRC safe convolution\n",
    "        Z_weight = torch.Tensor([[z[i][0] for i in edge_index[0]]]).T\n",
    "\n",
    "        # be careful - Dataloader turns edge_attribute into a list of [[Z_weight], [Z]]\n",
    "        data = Data(p, edge_index, edge_attribute=[Z_weight, z], y=m)\n",
    "        \n",
    "        Dataset.append(data)\n",
    "        \n",
    "    train, test = train_test_split(list(range(len(Dataset))), test_size=int(0.1*len(Dataset)))\n",
    "        \n",
    "    train, val = train_test_split(train, test_size=int(0.1*len(Dataset)))\n",
    "    \n",
    "    train_set = [Dataset[i] for i in train]\n",
    "    val_set = [Dataset[i] for i in val]\n",
    "    test_set = [Dataset[i] for i in test]\n",
    "    \n",
    "    return DataLoader(train_set, batch_size=1), DataLoader(val_set, batch_size=1), DataLoader(test_set, batch_size=1)"
   ]
  },
  {
   "cell_type": "markdown",
   "id": "01775568-d868-4e3c-86b4-3ceaec865646",
   "metadata": {},
   "source": [
    "## Train/Val/Test Split on Dataset"
   ]
  },
  {
   "cell_type": "code",
   "execution_count": 65,
   "id": "5b6bf6b1-1eec-49e2-aef4-fcd0ddf84306",
   "metadata": {},
   "outputs": [],
   "source": [
    "train_loader, test_loader, val_loader = CreateDataset(X, obs)"
   ]
  },
  {
   "cell_type": "code",
   "execution_count": 66,
   "id": "9af2be78-92f7-4d33-8908-0dc1012de6cd",
   "metadata": {
    "jupyter": {
     "source_hidden": true
    },
    "tags": []
   },
   "outputs": [],
   "source": [
    "# train_loader = CreateDataset(p_train, z_train, y_train)\n",
    "# val_loader = CreateDataset(p_val, z_val, y_val)\n",
    "# test_loader = CreateDataset(p_test, z_test, y_test)"
   ]
  },
  {
   "cell_type": "markdown",
   "id": "2ef2e63d-f383-4387-8f87-4106d72ab93d",
   "metadata": {},
   "source": [
    "## Create the IRC Safe Edge-Convolution Class"
   ]
  },
  {
   "cell_type": "code",
   "execution_count": 67,
   "id": "071bfaf9-e615-4df6-9132-124e5e114b2a",
   "metadata": {},
   "outputs": [],
   "source": [
    "import torch\n",
    "from torch.nn import Sequential as Seq, Linear, ReLU\n",
    "from torch_geometric.nn import MessagePassing\n",
    "\n",
    "class EdgeConv(MessagePassing):\n",
    "    def __init__(self, in_channels, out_channels):\n",
    "        super(EdgeConv, self).__init__(aggr='add') #  \"Add\" aggregation.\n",
    "        self.mlp = Seq(Linear(2 * in_channels, out_channels),\n",
    "                       ReLU(),\n",
    "                       Linear(out_channels, out_channels))\n",
    "\n",
    "    def forward(self, x, edge_index, edge_weight):\n",
    "        # x has shape [N, in_channels]\n",
    "        # edge_index has shape [2, E]\n",
    "\n",
    "        return self.propagate(edge_index, x=x, edge_weight=edge_weight)\n",
    "\n",
    "    def message(self, x_i, x_j, edge_weight):\n",
    "        # x_i has shape [E, in_channels]\n",
    "        # x_j has shape [E, in_channels]\n",
    "        \n",
    "        tmp = torch.cat([x_i, x_j], dim=1)  # tmp has shape [E, 2 * in_channels]\n",
    "\n",
    "        return self.mlp(tmp) * edge_weight"
   ]
  },
  {
   "cell_type": "markdown",
   "id": "b93a0d4d-f8ad-4895-8dda-cc1d02923e39",
   "metadata": {},
   "source": [
    "## Build Neural Network Architecture"
   ]
  },
  {
   "cell_type": "markdown",
   "id": "eac1ab1b-5e97-44df-b905-716275098a20",
   "metadata": {},
   "source": [
    "### Base Model"
   ]
  },
  {
   "cell_type": "code",
   "execution_count": 68,
   "id": "731a23da-05fc-413b-97c8-32ee0211a416",
   "metadata": {},
   "outputs": [],
   "source": [
    "class Net(torch.nn.Module):\n",
    "    def __init__(self):\n",
    "        super(Net, self).__init__()\n",
    "        self.conv1 = EdgeConv(2, 8)\n",
    "        self.mlp2 = Seq(Linear(8, 16),\n",
    "                       ReLU(),\n",
    "                       Linear(16, 8),\n",
    "                       ReLU(),\n",
    "                       Linear(8, 1))\n",
    "\n",
    "    def forward(self, data):\n",
    "        x, edge_index, edge_weight, energy = data.x, data.edge_index, data.edge_attribute[0][0], data.edge_attribute[0][1]\n",
    "\n",
    "        x = self.conv1(x, edge_index, edge_weight)\n",
    "        x = self.mlp2(x)\n",
    "        \n",
    "        # scale each particle's latent rep by it's energy, then sum\n",
    "        return (x.T @ energy).reshape(-1)"
   ]
  },
  {
   "cell_type": "markdown",
   "id": "bc031bc2-711c-4fb0-8d5e-c096cbf71e67",
   "metadata": {},
   "source": [
    "### Mini-Batching Model, still need to figure out"
   ]
  },
  {
   "cell_type": "code",
   "execution_count": 69,
   "id": "743c5694-0126-4082-88d2-c26cc87a9ded",
   "metadata": {
    "jupyter": {
     "source_hidden": true
    },
    "tags": []
   },
   "outputs": [],
   "source": [
    "# class Net(torch.nn.Module):\n",
    "#     def __init__(self):\n",
    "#         super(Net, self).__init__()\n",
    "#         self.conv1 = EdgeConv(2, 8)\n",
    "# #         self.conv2 = EdgeConv(16, 8)\n",
    "# #         self.conv3 = EdgeConv(8, 4)\n",
    "#         self.mlp2 = Seq(Linear(8, 16),\n",
    "#                        ReLU(),\n",
    "#                        Linear(16, 8),\n",
    "# #                        ReLU(),\n",
    "# #                        Linear(8, 4),\n",
    "#                        ReLU(),\n",
    "#                        Linear(8, 1))\n",
    "\n",
    "#     def forward(self, data):\n",
    "#         x, edge_index, edge_weight, energy = data.x, data.edge_index, data.edge_attribute[0][0], data.edge_attribute[0][1]\n",
    "        \n",
    "# #         edge_weight = torch.cat([data.edge_attribute[i][0] for i in range(len(data.edge_attribute))])\n",
    "# #         energy =  torch.cat([data.edge_attribute[i][1] for i in range(len(data.edge_attribute))])\n",
    "\n",
    "\n",
    "#         x = self.conv1(x, edge_index, edge_weight)\n",
    "# #         x = self.conv2(x, edge_index, edge_weight)\n",
    "# #         x = F.relu(x)\n",
    "# #         x = F.dropout(x, training=self.training)\n",
    "# #         x = self.conv2(x, edge_index, edge_weight)\n",
    "# #         x = F.relu(x)\n",
    "# #         x = self.conv3(x, edge_index, edge_weight)\n",
    "#         x = self.mlp2(x)\n",
    "\n",
    "# #         dot = (x.T @ energy).reshape(-1)\n",
    "# #         out = []\n",
    "# #         ind1 = 0\n",
    "# #         for i in range(len(data.edge_attribute)):\n",
    "# #             ind2 = ind1 + len(data.edge_attribute[i][1])\n",
    "# #             out.append([torch.sum(dot[ind1:ind2])])\n",
    "# #             ind1 = ind2\n",
    "        \n",
    "# #         out = torch.Tensor(out)\n",
    "        \n",
    "# #         print(out.shape)\n",
    "        \n",
    "#         # scale each particle's latent rep by it's energy, then sum\n",
    "#         return (x.T @ energy).reshape(-1)"
   ]
  },
  {
   "cell_type": "code",
   "execution_count": 70,
   "id": "804c4e23-829c-4d6d-b7eb-29cea0b28e6a",
   "metadata": {},
   "outputs": [],
   "source": [
    "def trainer(model, device, train_loader, optimizer, val_loader=None):\n",
    "    model.train()\n",
    "    \n",
    "    total_loss = 0\n",
    "    total_items = 0\n",
    "    \n",
    "    targ = []\n",
    "    pred = []\n",
    "    \n",
    "    with torch.enable_grad():\n",
    "        for data in train_loader:\n",
    "\n",
    "            targ.append(float(data.y[0]))\n",
    "\n",
    "            optimizer.zero_grad()\n",
    "\n",
    "            output = model.forward(data)\n",
    "            \n",
    "            pred.append(float(output))\n",
    "\n",
    "            loss_fn = MSELoss()\n",
    "            loss = loss_fn(output, data.y[0])      \n",
    "\n",
    "            loss.backward()\n",
    "            optimizer.step()\n",
    "\n",
    "\n",
    "            total_loss += loss\n",
    "            total_items += len(data)\n",
    "\n",
    "    accuracy = pearsonr(targ, pred)[0]\n",
    "    \n",
    "    return total_loss.item()/len(train_loader), accuracy.item()"
   ]
  },
  {
   "cell_type": "code",
   "execution_count": 71,
   "id": "e8d7d26d-08ca-44b0-86ff-d1e6f81f8190",
   "metadata": {},
   "outputs": [],
   "source": [
    "def tester(model, device, train_loader, testing=False):\n",
    "    model.eval()\n",
    "    \n",
    "    total_loss = 0\n",
    "    total_items = 0\n",
    "    \n",
    "    targ = []\n",
    "    pred = []\n",
    "   \n",
    "    with torch.no_grad():\n",
    "        for data in train_loader:\n",
    "\n",
    "            targ.append(float(data.y))\n",
    "\n",
    "            output = model.forward(data)\n",
    "\n",
    "            pred.append(float(output))\n",
    "\n",
    "            loss = F.mse_loss(output, data.y)\n",
    "\n",
    "            total_loss += loss\n",
    "            total_items += len(data)\n",
    "    \n",
    "    accuracy = pearsonr(targ, pred)[0]\n",
    "    \n",
    "    return total_loss.item()/len(train_loader), accuracy.item()\n"
   ]
  },
  {
   "cell_type": "code",
   "execution_count": 72,
   "id": "792b6129-c7ed-4804-adc6-89f73b1c9558",
   "metadata": {},
   "outputs": [
    {
     "data": {
      "image/png": "[encoded data removed]",
      "text/plain": [
       "<Figure size 864x576 with 2 Axes>"
      ]
     },
     "metadata": {
      "needs_background": "light"
     },
     "output_type": "display_data"
    },
    {
     "name": "stdout",
     "output_type": "stream",
     "text": [
      "Accuracy\n",
      "\ttraining         \t (min:    0.112, max:    0.994, cur:    0.994)\n",
      "\tvalidation       \t (min:    0.717, max:    0.993, cur:    0.993)\n",
      "Loss\n",
      "\ttraining         \t (min:    0.012, max:    0.977, cur:    0.012)\n",
      "\tvalidation       \t (min:    0.014, max:    0.945, cur:    0.014)\n"
     ]
    }
   ],
   "source": [
    "from livelossplot import PlotLosses\n",
    "\n",
    "# check if running on CPU or GPU\n",
    "device = torch.device(\"cuda\" if torch.cuda.is_available() else \"cpu\")\n",
    "\n",
    "# initialize a fully-connected classifier\n",
    "fc_model = Net()\n",
    "\n",
    "# initialize our optimizer. We'll use Adam\n",
    "# optimizer = torch.optim.Adam(fc_model.parameters(), lr=0.001, weight_decay=0.01)\n",
    "optimizer = torch.optim.Adam(fc_model.parameters(), lr=0.001)\n",
    "\n",
    "plotlosses = PlotLosses()\n",
    "\n",
    "for epoch in range(100):\n",
    "    train_loss, train_acc = trainer(fc_model, device, train_loader, optimizer)\n",
    "    val_loss, val_acc = tester(fc_model, device, val_loader)\n",
    "    \n",
    "    plotlosses.update({'acc': train_acc, 'val_acc': val_acc, 'loss': train_loss, 'val_loss': val_loss})\n",
    "    plotlosses.draw()  # draw, update logs, etc"
   ]
  },
  {
   "cell_type": "code",
   "execution_count": 58,
   "id": "4ca1d44f-8ca9-43bd-8bea-fe48e32b8bb7",
   "metadata": {},
   "outputs": [
    {
     "name": "stdout",
     "output_type": "stream",
     "text": [
      "\n",
      "\t\t\tTest Loss: 0.003803 \t Test Accuracy: 0.998350\n"
     ]
    }
   ],
   "source": [
    "test_loss, test_acc = tester(fc_model, device, test_loader, True)\n",
    "print('\\n\\t\\t\\tTest Loss: {:.6f} \\t Test Accuracy: {:.6f}'.format(test_loss, test_acc) )"
   ]
  },
  {
   "cell_type": "code",
   "execution_count": null,
   "id": "6b36105e-7af9-42f4-9f4d-101e80ac1b71",
   "metadata": {
    "jupyter": {
     "source_hidden": true
    },
    "tags": []
   },
   "outputs": [],
   "source": [
    "device = torch.device('cuda' if torch.cuda.is_available() else 'cpu')\n",
    "model = Net().to(device)\n",
    "data = data.to(device)\n",
    "optimizer = torch.optim.Adam(model.parameters(), lr=0.01, weight_decay=5e-4)"
   ]
  },
  {
   "cell_type": "code",
   "execution_count": 257,
   "id": "00564f69-758f-4d99-bd17-91ad01e0b313",
   "metadata": {
    "collapsed": true,
    "jupyter": {
     "outputs_hidden": true,
     "source_hidden": true
    },
    "tags": []
   },
   "outputs": [
    {
     "data": {
      "text/plain": [
       "Net(\n",
       "  (conv1): EdgeConv(\n",
       "    (mlp): Sequential(\n",
       "      (0): Linear(in_features=4, out_features=16, bias=True)\n",
       "      (1): ReLU()\n",
       "      (2): Linear(in_features=16, out_features=16, bias=True)\n",
       "    )\n",
       "  )\n",
       "  (conv2): EdgeConv(\n",
       "    (mlp): Sequential(\n",
       "      (0): Linear(in_features=32, out_features=1, bias=True)\n",
       "      (1): ReLU()\n",
       "      (2): Linear(in_features=1, out_features=1, bias=True)\n",
       "    )\n",
       "  )\n",
       ")"
      ]
     },
     "execution_count": 257,
     "metadata": {},
     "output_type": "execute_result"
    }
   ],
   "source": [
    "model.train()"
   ]
  },
  {
   "cell_type": "code",
   "execution_count": 268,
   "id": "5891ca32-51b5-4114-b911-e43f516e1181",
   "metadata": {
    "jupyter": {
     "source_hidden": true
    },
    "tags": []
   },
   "outputs": [],
   "source": [
    "for epoch in range(1000):\n",
    "    optimizer.zero_grad()\n",
    "    out = model(data)\n",
    "    loss = F.mse_loss(out, data.y)\n",
    "    loss.backward()\n",
    "    optimizer.step()"
   ]
  },
  {
   "cell_type": "code",
   "execution_count": 269,
   "id": "2c8e0fc7-92e1-44df-ac8e-f01aa82bce6e",
   "metadata": {
    "collapsed": true,
    "jupyter": {
     "outputs_hidden": true,
     "source_hidden": true
    },
    "tags": []
   },
   "outputs": [
    {
     "data": {
      "text/plain": [
       "(tensor([-0.5525], grad_fn=<ViewBackward>), tensor([-0.5527]))"
      ]
     },
     "execution_count": 269,
     "metadata": {},
     "output_type": "execute_result"
    }
   ],
   "source": [
    "model.eval()\n",
    "# _, pred = model(data).max(dim=1)\n",
    "pred = model(data)\n",
    "pred, data.y\n",
    "# correct = int(pred[data.test_mask].eq(data.y[data.test_mask]).sum().item())\n",
    "# acc = correct / int(data.test_mask.sum())\n",
    "# print('Accuracy: {:.4f}'.format(acc * 100))"
   ]
  }
 ],
 "metadata": {
  "kernelspec": {
   "display_name": "Python 3",
   "language": "python",
   "name": "python3"
  },
  "language_info": {
   "codemirror_mode": {
    "name": "ipython",
    "version": 3
   },
   "file_extension": ".py",
   "mimetype": "text/x-python",
   "name": "python",
   "nbconvert_exporter": "python",
   "pygments_lexer": "ipython3",
   "version": "3.7.10"
  }
 },
 "nbformat": 4,
 "nbformat_minor": 5
}
